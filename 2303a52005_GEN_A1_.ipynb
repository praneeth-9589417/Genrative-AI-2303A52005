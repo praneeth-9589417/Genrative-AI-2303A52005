{
  "nbformat": 4,
  "nbformat_minor": 0,
  "metadata": {
    "colab": {
      "provenance": [],
      "authorship_tag": "ABX9TyPLsBlygsNRHijOLRoPFXgy",
      "include_colab_link": true
    },
    "kernelspec": {
      "name": "python3",
      "display_name": "Python 3"
    },
    "language_info": {
      "name": "python"
    }
  },
  "cells": [
    {
      "cell_type": "markdown",
      "metadata": {
        "id": "view-in-github",
        "colab_type": "text"
      },
      "source": [
        "<a href=\"https://colab.research.google.com/github/praneeth-9589417/Genrative-AI-2303A52005/blob/main/2303a52005_GEN_A1_.ipynb\" target=\"_parent\"><img src=\"https://colab.research.google.com/assets/colab-badge.svg\" alt=\"Open In Colab\"/></a>"
      ]
    },
    {
      "cell_type": "markdown",
      "source": [
        "QUESTION 1\n"
      ],
      "metadata": {
        "id": "8rz6gsiIcgBA"
      }
    },
    {
      "cell_type": "code",
      "execution_count": null,
      "metadata": {
        "id": "a_Vbu8bjcZ0X"
      },
      "outputs": [],
      "source": [
        "Y_act=[10,20,30,40,50]\n",
        "Y_pred=[10.2,20.5,30.3,40.8,50.6]\n",
        "n=len(Y_act)\n",
        "MSE = 0\n",
        "MAE = 0\n",
        "RMSE=  0\n"
      ]
    },
    {
      "cell_type": "code",
      "source": [
        "for i in range(n):\n",
        "  MSE = MSE + (Y_act[i] - Y_pred[i])**2\n",
        "  MAE = MAE + abs(Y_act[i] - Y_pred[i])\n",
        "MSE = MSE/n\n",
        "MAE = MAE/n\n",
        "RMSE=MSE**0.5\n"
      ],
      "metadata": {
        "id": "gRp93KSHct1A"
      },
      "execution_count": null,
      "outputs": []
    },
    {
      "cell_type": "code",
      "source": [
        "print(\"MSE = \",MSE)\n",
        "print(\"MAE = \",MAE)\n",
        "print(\"RMSE = \",RMSE)"
      ],
      "metadata": {
        "colab": {
          "base_uri": "https://localhost:8080/"
        },
        "id": "hayQunxQc0y_",
        "outputId": "5891cc58-04b5-4c0c-e7bb-ecabaab0cbfd"
      },
      "execution_count": null,
      "outputs": [
        {
          "output_type": "stream",
          "name": "stdout",
          "text": [
            "MSE =  0.27599999999999947\n",
            "MAE =  0.4799999999999997\n",
            "RMSE =  0.5253570214625474\n"
          ]
        }
      ]
    },
    {
      "cell_type": "markdown",
      "source": [
        "QUESTION 2"
      ],
      "metadata": {
        "id": "6ljbfgWoccc3"
      }
    },
    {
      "cell_type": "code",
      "source": [
        "confusion_matrix = [\n",
        "    [2, 2, 1],\n",
        "    [1, 3, 2],\n",
        "    [1, 2, 2]\n",
        "]\n",
        "\n",
        "num_classes = len(confusion_matrix)\n",
        "\n",
        "\n",
        "accuracy = 0\n",
        "precision = [0] * num_classes\n",
        "recall = [0] * num_classes\n",
        "f1_score = [0] * num_classes\n",
        "\n",
        "\n",
        "total_instances = sum(sum(row) for row in confusion_matrix)\n",
        "\n",
        "for i in range(num_classes):\n",
        "\n",
        "    TP = confusion_matrix[i][i]\n",
        "    FP = sum(confusion_matrix[row][i] for row in range(num_classes)) - TP\n",
        "    FN = sum(confusion_matrix[i]) - TP\n",
        "    TN = total_instances - (TP + FP + FN)\n",
        "\n",
        "\n",
        "    precision[i] = TP / (TP + FP) if TP + FP != 0 else 0\n",
        "    recall[i] = TP / (TP + FN) if TP + FN != 0 else 0\n",
        "    f1_score[i] = 2 * (precision[i] * recall[i]) / (precision[i] + recall[i]) if precision[i] + recall[i] != 0 else 0\n",
        "\n",
        "\n",
        "    accuracy += TP\n",
        "\n",
        "accuracy /= total_instances\n",
        "\n",
        "\n",
        "print(\"Accuracy:\", accuracy)\n",
        "for i in range(num_classes):\n",
        "    print(f\"Class {i}:\")\n",
        "    print(f\"  Precision: {precision[i]}\")\n",
        "    print(f\"  Recall: {recall[i]}\")\n",
        "    print(f\"  F1 Score: {f1_score[i]}\")\n"
      ],
      "metadata": {
        "colab": {
          "base_uri": "https://localhost:8080/"
        },
        "id": "hU7XkjEncdz_",
        "outputId": "4e3743c4-9d15-4eb3-ae07-2d94d33abdc7"
      },
      "execution_count": null,
      "outputs": [
        {
          "output_type": "stream",
          "name": "stdout",
          "text": [
            "Accuracy: 0.4375\n",
            "Class 0:\n",
            "  Precision: 0.5\n",
            "  Recall: 0.4\n",
            "  F1 Score: 0.4444444444444445\n",
            "Class 1:\n",
            "  Precision: 0.42857142857142855\n",
            "  Recall: 0.5\n",
            "  F1 Score: 0.4615384615384615\n",
            "Class 2:\n",
            "  Precision: 0.4\n",
            "  Recall: 0.4\n",
            "  F1 Score: 0.4000000000000001\n"
          ]
        }
      ]
    }
  ]
}