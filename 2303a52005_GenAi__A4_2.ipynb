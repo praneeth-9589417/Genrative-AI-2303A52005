{
  "nbformat": 4,
  "nbformat_minor": 0,
  "metadata": {
    "colab": {
      "provenance": [],
      "authorship_tag": "ABX9TyM/m7NHT44t7pcy09MotD+g",
      "include_colab_link": true
    },
    "kernelspec": {
      "name": "python3",
      "display_name": "Python 3"
    },
    "language_info": {
      "name": "python"
    }
  },
  "cells": [
    {
      "cell_type": "markdown",
      "metadata": {
        "id": "view-in-github",
        "colab_type": "text"
      },
      "source": [
        "<a href=\"https://colab.research.google.com/github/praneeth-9589417/Genrative-AI-2303A52005/blob/main/2303a52005_GenAi__A4_2.ipynb\" target=\"_parent\"><img src=\"https://colab.research.google.com/assets/colab-badge.svg\" alt=\"Open In Colab\"/></a>"
      ]
    },
    {
      "cell_type": "markdown",
      "source": [
        "Design a simple ANN architecture with one input and one output layer (no hidden\n",
        "layer). Assume a sigmoid activation function shown in the equation 1 in the output layer.\n"
      ],
      "metadata": {
        "id": "McvH12LEbAxq"
      }
    },
    {
      "cell_type": "code",
      "execution_count": null,
      "metadata": {
        "colab": {
          "base_uri": "https://localhost:8080/"
        },
        "id": "7LUtr6WLYblV",
        "outputId": "127ef184-afdf-4cf0-a08e-05975be3b8c9"
      },
      "outputs": [
        {
          "output_type": "stream",
          "name": "stdout",
          "text": [
            "Epoch 0/10000, MSE: 0.0020693484831043156\n",
            "Epoch 1000/10000, MSE: 5.021023240079596e-05\n",
            "Epoch 2000/10000, MSE: 3.7592387487270245e-05\n",
            "Epoch 3000/10000, MSE: 3.3088060186309406e-05\n",
            "Epoch 4000/10000, MSE: 2.9299793290231548e-05\n",
            "Epoch 5000/10000, MSE: 2.5950089861362323e-05\n",
            "Epoch 6000/10000, MSE: 2.298298270453918e-05\n",
            "Epoch 7000/10000, MSE: 2.0354702657146283e-05\n",
            "Epoch 8000/10000, MSE: 1.8026630308497056e-05\n",
            "Epoch 9000/10000, MSE: 1.596453904007921e-05\n",
            "Training MSE: 1.4138093135639093e-05\n",
            "Testing MSE: 4.9396982291910016e-05\n",
            "Enter 3 values for x1, x2, x3 (separated by space): 2 3 4\n",
            "Predicted output: 0.8603214104487439\n"
          ]
        }
      ],
      "source": [
        "import numpy as np\n",
        "\n",
        "# Sigmoid\n",
        "def sigmoid(x):\n",
        "    return 1 / (1 + np.exp(-x))\n",
        "\n",
        "def sigmoid_derivative(x):\n",
        "    return sigmoid(x) * (1 - sigmoid(x))\n",
        "\n",
        "X_train = np.array([\n",
        "    [0.1, 0.2, 0.3],\n",
        "    [0.2, 0.3, 0.4],\n",
        "    [0.3, 0.4, 0.5],\n",
        "    [0.5, 0.6, 0.7],\n",
        "    [0.1, 0.3, 0.5],\n",
        "    [0.2, 0.4, 0.6],\n",
        "    [0.3, 0.5, 0.7],\n",
        "    [0.4, 0.6, 0.8],\n",
        "    [0.5, 0.7, 0.1]\n",
        "])\n",
        "\n",
        "y_train = np.array([0.5349, 0.5498, 0.5646, 0.5939, 0.5548, 0.5695, 0.5842, 0.5987, 0.5548])\n",
        "\n",
        "X_test = np.array([\n",
        "    [0.6, 0.7, 0.8],\n",
        "    [0.7, 0.8, 0.9]\n",
        "])\n",
        "\n",
        "y_test = np.array([0.6083, 0.6225])\n",
        "\n",
        "input_size = X_train.shape[1]\n",
        "output_size = 1\n",
        "weights = np.random.randn(input_size)\n",
        "bias = np.random.randn()\n",
        "\n",
        "learning_rate = 0.1\n",
        "epochs = 10000\n",
        "\n",
        "for epoch in range(epochs):\n",
        "\n",
        "    weighted_sum = np.dot(X_train, weights) + bias\n",
        "    output = sigmoid(weighted_sum)\n",
        "\n",
        "\n",
        "    error = y_train - output\n",
        "\n",
        "    d_output = error * sigmoid_derivative(weighted_sum)\n",
        "\n",
        "    weights += learning_rate * np.dot(X_train.T, d_output)\n",
        "    bias += learning_rate * np.sum(d_output)\n",
        "\n",
        "    mse = np.mean(error ** 2)\n",
        "\n",
        "    if epoch % 1000 == 0:\n",
        "        print(f\"Epoch {epoch}/{epochs}, MSE: {mse}\")\n",
        "\n",
        "def predict(X):\n",
        "    weighted_sum = np.dot(X, weights) + bias\n",
        "    return sigmoid(weighted_sum)\n",
        "\n",
        "\n",
        "\n",
        "\n",
        "\n",
        "y_pred_train = predict(X_train)\n",
        "y_pred_test = predict(X_test)\n",
        "\n",
        "train_mse = np.mean((y_train - y_pred_train) ** 2)\n",
        "test_mse = np.mean((y_test - y_pred_test) ** 2)\n",
        "\n",
        "print(f\"Training MSE: {train_mse}\")\n",
        "print(f\"Testing MSE: {test_mse}\")\n",
        "\n",
        "user_input = input(\"Enter 3 values for x1, x2, x3 (separated by space): \").split()\n",
        "user_input = np.array([float(x) for x in user_input]).reshape(1, -1)\n",
        "\n",
        "predicted_output = predict(user_input)\n",
        "print(f\"Predicted output: {predicted_output[0]}\")"
      ]
    }
  ]
}