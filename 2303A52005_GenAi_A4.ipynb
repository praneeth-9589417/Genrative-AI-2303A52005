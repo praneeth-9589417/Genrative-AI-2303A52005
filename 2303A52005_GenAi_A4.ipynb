{
  "cells": [
    {
      "cell_type": "markdown",
      "metadata": {
        "id": "view-in-github",
        "colab_type": "text"
      },
      "source": [
        "<a href=\"https://colab.research.google.com/github/praneeth-9589417/Genrative-AI-2303A52005/blob/main/2303A52005_GenAi_A4.ipynb\" target=\"_parent\"><img src=\"https://colab.research.google.com/assets/colab-badge.svg\" alt=\"Open In Colab\"/></a>"
      ]
    },
    {
      "cell_type": "markdown",
      "metadata": {
        "id": "b0qOGMlnVYg1"
      },
      "source": [
        "1. (1 ponto) Design a simple ANN architecture with one input and one output layer (no hidden\n",
        "layer). Assume a linear activation function in the output layer.\n",
        "• Write Python code for a backpropagation algorithm with gradient descent optimization to\n",
        "update weights and bias parameters of the ANN model with training data shown in Table\n",
        "1.\n",
        "• Calculate the mean square error with training and testing data shown in Table 2.\n",
        "• Write Python code that reads the input data [x1, x2, and x3] from the user. Predict the\n",
        "output with deployed ANN model\n",
        "Tabela 1: Training Data\n",
        "x1 x2 x3 y\n",
        "0.1 0.2 0.3 0.14\n",
        "0.2 0.3 0.4 0.20\n",
        "0.3 0.4 0.5 0.26\n",
        "0.5 0.6 0.7 0.38\n",
        "0.1 0.3 0.5 0.22\n",
        "0.2 0.4 0.6 0.28\n",
        "0.3 0.5 0.7 0.34\n",
        "0.4 0.6 0.8 0.40\n",
        "0.5 0.7 0.1 0.22\n",
        "\n",
        "Tabela 2: Test Data\n",
        "x1 x2 x3 y\n",
        "0.6 0.7 0.8 0.44\n",
        "0.7 0.8 0.9 0.50\n"
      ]
    },
    {
      "cell_type": "code",
      "execution_count": null,
      "metadata": {
        "colab": {
          "background_save": true,
          "base_uri": "https://localhost:8080/"
        },
        "id": "CssB_hkThYi6",
        "outputId": "811108ea-dbe3-4f86-abec-3c92c8a26aed"
      },
      "outputs": [
        {
          "name": "stdout",
          "output_type": "stream",
          "text": [
            "Epoch 100/1000, MSE: 0.0068\n",
            "Epoch 200/1000, MSE: 0.0034\n",
            "Epoch 300/1000, MSE: 0.0030\n",
            "Epoch 400/1000, MSE: 0.0026\n",
            "Epoch 500/1000, MSE: 0.0023\n",
            "Epoch 600/1000, MSE: 0.0020\n",
            "Epoch 700/1000, MSE: 0.0017\n",
            "Epoch 800/1000, MSE: 0.0015\n",
            "Epoch 900/1000, MSE: 0.0013\n",
            "Epoch 1000/1000, MSE: 0.0012\n",
            "\n",
            "Final Training MSE: 0.0012\n",
            "Final Testing MSE: 0.0037\n"
          ]
        }
      ],
      "source": [
        "import numpy as np\n",
        "\n",
        "train_data = np.array([\n",
        "    [0.1, 0.2, 0.3, 0.14],\n",
        "    [0.2, 0.3, 0.4, 0.20],\n",
        "    [0.3, 0.4, 0.5, 0.26],\n",
        "    [0.5, 0.6, 0.7, 0.38],\n",
        "    [0.1, 0.3, 0.5, 0.22],\n",
        "    [0.2, 0.4, 0.6, 0.28],\n",
        "    [0.3, 0.5, 0.7, 0.34],\n",
        "    [0.4, 0.6, 0.8, 0.40],\n",
        "    [0.5, 0.7, 0.1, 0.22]\n",
        "])\n",
        "X_train = train_data[:, :3]\n",
        "y_train = train_data[:, 3]\n",
        "\n",
        "\n",
        "test_data = np.array([\n",
        "    [0.6, 0.7, 0.8, 0.44],\n",
        "    [0.7, 0.8, 0.9, 0.50]\n",
        "])\n",
        "X_test = test_data[:, :3]\n",
        "y_test = test_data[:, 3]\n",
        "\n",
        "np.random.seed(42)\n",
        "weights = np.random.rand(3)\n",
        "bias = np.random.rand(1)\n",
        "\n",
        "\n",
        "learning_rate = 0.01\n",
        "epochs = 1000\n",
        "\n",
        "\n",
        "def linear_activation(x):\n",
        "    return x\n",
        "\n",
        "\n",
        "for epoch in range(epochs):\n",
        "\n",
        "    predictions = np.dot(X_train, weights) + bias\n",
        "\n",
        "\n",
        "    errors = predictions - y_train\n",
        "    mse = np.mean(errors ** 2)\n",
        "\n",
        "    # gradient descent\n",
        "    gradient_weights = 2 * np.dot(X_train.T, errors) / len(X_train)\n",
        "    gradient_bias = 2 * np.mean(errors)\n",
        "\n",
        "    weights -= learning_rate * gradient_weights\n",
        "    bias -= learning_rate * gradient_bias\n",
        "\n",
        "    # Print MSE every 100 epochs\n",
        "    if (epoch + 1) % 100 == 0:\n",
        "        print(f\"Epoch {epoch + 1}/{epochs}, MSE: {mse:.4f}\")\n",
        "\n",
        "# Calculate MSE for training and testing data\n",
        "def calculate_mse(X, y):\n",
        "    predictions = np.dot(X, weights) + bias\n",
        "    mse = np.mean((predictions - y) ** 2)\n",
        "    return mse\n",
        "\n",
        "train_mse = calculate_mse(X_train, y_train)\n",
        "test_mse = calculate_mse(X_test, y_test)\n",
        "\n",
        "print(f\"\\nFinal Training MSE: {train_mse:.4f}\")\n",
        "print(f\"Final Testing MSE: {test_mse:.4f}\")\n",
        "\n",
        "\n",
        "user_input = input(\"Enter values for x1, x2, and x3 separated by spaces: \")\n",
        "user_input = np.array(list(map(float, user_input.split())))\n",
        "\n",
        "if len(user_input) == 3:\n",
        "    user_prediction = linear_activation(np.dot(user_input, weights) + bias)\n",
        "    print(f\"Predicted output: {user_prediction.item():.4f}\")\n",
        "\n",
        "\n",
        "else:\n",
        "    print(\"Error: Please provide exactly three inputs.\")\n"
      ]
    },
    {
      "cell_type": "code",
      "source": [],
      "metadata": {
        "id": "xogedPSZWO4T"
      },
      "execution_count": null,
      "outputs": []
    }
  ],
  "metadata": {
    "colab": {
      "provenance": [],
      "authorship_tag": "ABX9TyPEkUHfbO0P+y7y6BJ4O+q6",
      "include_colab_link": true
    },
    "kernelspec": {
      "display_name": "Python 3",
      "name": "python3"
    },
    "language_info": {
      "name": "python"
    }
  },
  "nbformat": 4,
  "nbformat_minor": 0
}